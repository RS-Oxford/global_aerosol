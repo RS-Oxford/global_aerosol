{
 "cells": [
  {
   "cell_type": "code",
   "execution_count": 2,
   "id": "31e4d42b",
   "metadata": {},
   "outputs": [
    {
     "data": {
      "text/html": [
       "<p>To authorize access needed by Earth Engine, open the following\n",
       "        URL in a web browser and follow the instructions:</p>\n",
       "        <p><a href=https://code.earthengine.google.com/client-auth?scopes=https%3A//www.googleapis.com/auth/earthengine%20https%3A//www.googleapis.com/auth/devstorage.full_control&request_id=N8gLgwk8CZPM1IcI0wmnplYhIXf5SgINCKJBNJ1lMFA&tc=iHpxrH6Mz-4bzlegAYhGlSOet5rvORII5a58TQja2fg&cc=B9aZF7iqjori9gKy5DIU607LqZU_I98P6S7-u8ad95A>https://code.earthengine.google.com/client-auth?scopes=https%3A//www.googleapis.com/auth/earthengine%20https%3A//www.googleapis.com/auth/devstorage.full_control&request_id=N8gLgwk8CZPM1IcI0wmnplYhIXf5SgINCKJBNJ1lMFA&tc=iHpxrH6Mz-4bzlegAYhGlSOet5rvORII5a58TQja2fg&cc=B9aZF7iqjori9gKy5DIU607LqZU_I98P6S7-u8ad95A</a></p>\n",
       "        <p>The authorization workflow will generate a code, which you should paste in the box below.</p>\n",
       "        "
      ],
      "text/plain": [
       "<IPython.core.display.HTML object>"
      ]
     },
     "metadata": {},
     "output_type": "display_data"
    },
    {
     "name": "stdout",
     "output_type": "stream",
     "text": [
      "Enter verification code: 4/1AdQt8qgMYj2nIenmQkEk-2kNHoqPDMMQSs1udsL0pD5zce6j1LQ91nIepd8\n",
      "\n",
      "Successfully saved authorization token.\n"
     ]
    }
   ],
   "source": [
    "import ee\n",
    "# Trigger the authentication flow.\n",
    "ee.Authenticate()\n",
    "\n",
    "# Initialize the library.\n",
    "ee.Initialize()"
   ]
  },
  {
   "cell_type": "code",
   "execution_count": 20,
   "id": "de1704e9",
   "metadata": {},
   "outputs": [
    {
     "name": "stdout",
     "output_type": "stream",
     "text": [
      "Number of filtered images: 32\n"
     ]
    }
   ],
   "source": [
    "# Import CAMS aerosol data, and filter data.\n",
    "aerosol_data = ee.ImageCollection('ECMWF/CAMS/NRT').filter(ee.Filter.date('2020-06-15', '2020-06-19')).select('total_aerosol_optical_depth_at_550nm_surface').filterMetadata('model_initialization_datetime','equals','2020-06-15T00:00:00')\n",
    "data_size = aerosol_data.size().getInfo()\n",
    "print('Number of filtered images:', data_size)\n"
   ]
  },
  {
   "cell_type": "code",
   "execution_count": 4,
   "id": "edd391e3",
   "metadata": {},
   "outputs": [],
   "source": [
    "# definte AOI over north Africa\n",
    "AOI_NorthAfrica = ee.Geometry.Polygon([[[-61.0, 58.0], [-61.0, -36.0], [53.0, -36.0], [53.0, 58.0]]]);\n"
   ]
  },
  {
   "cell_type": "code",
   "execution_count": 5,
   "id": "12f4637d",
   "metadata": {},
   "outputs": [],
   "source": [
    "# load boundary data (plotting global land boundary)\n",
    "global_boundary = ee.FeatureCollection('USDOS/LSIB_SIMPLE/2017');\n"
   ]
  },
  {
   "cell_type": "code",
   "execution_count": 6,
   "id": "0507dea8",
   "metadata": {},
   "outputs": [],
   "source": [
    "# visualise feature collection (boundary)\n",
    "# Define an empty image to paint features to.\n",
    "empty = ee.Image().byte();\n",
    "\n",
    "# Paint country feature edges to the empty image.\n",
    "boundaryOutline = empty.paint(**{\n",
    "  'featureCollection': global_boundary,\n",
    "  'color': 1,\n",
    "  'width': 1,\n",
    "});\n"
   ]
  },
  {
   "cell_type": "code",
   "execution_count": 7,
   "id": "d4cf4e0d",
   "metadata": {},
   "outputs": [
    {
     "name": "stdout",
     "output_type": "stream",
     "text": [
      "https://earthengine.googleapis.com/v1alpha/projects/earthengine-legacy/videoThumbnails/b9ef8d92af79e72db2cffde8bc1606cf-f12885bbdf845769b2bebd29e1d3f899:getPixels\n",
      "Generating URL...\n",
      "Downloading GIF image from https://earthengine.googleapis.com/v1alpha/projects/earthengine-legacy/videoThumbnails/b9ef8d92af79e72db2cffde8bc1606cf-e2db182ad6802c53fb1501e91e3f75db:getPixels\n",
      "Please wait ...\n",
      "The GIF image has been saved to: /Users/rs/Downloads/test.gif\n"
     ]
    }
   ],
   "source": [
    "visArgs = {\n",
    "  'min': 0.000096,\n",
    "  'max': 3.582552,\n",
    "  'palette': [\n",
    "    \"5E4FA2\",\n",
    "    \"3288BD\",\n",
    "    \"66C2A5\",\n",
    "    \"ABE0A4\",\n",
    "    \"E6F598\",\n",
    "    \"FFFFBF\",\n",
    "    \"FEE08B\",\n",
    "    \"FDAE61\",\n",
    "    \"F46D43\",\n",
    "    \"D53E4F\",\n",
    "    \"9E0142\",\n",
    "  ]\n",
    "};\n",
    "\n",
    "\n",
    "def addImageVisualise(image):\n",
    "    return image.visualize(**visArgs)\n",
    "\n",
    "def addBoundary(image):\n",
    "    index = image.get('system:time_start')\n",
    "    return image.blend(boundaryOutline.visualize(**{'palette': '000000'}))\n",
    "\n",
    "aeosolVisualise = aerosol_data.map(addImageVisualise)\n",
    "aeosolVisualiseBoudary = aeosolVisualise.map(addBoundary)\n",
    "\n",
    "videoArgs = {\n",
    "  'dimensions': 800,\n",
    "  'region': AOI_NorthAfrica,\n",
    "  'framesPerSecond': 3,\n",
    "  'crs': 'EPSG:3857'\n",
    "};\n",
    "\n",
    "# display video in a link\n",
    "print(aeosolVisualiseBoudary.getVideoThumbURL(videoArgs));\n",
    "\n",
    "import geemap\n",
    "import os\n",
    "saved_gif = os.path.join(os.path.expanduser('~'), 'Downloads/test.gif')\n",
    "geemap.download_ee_video(aeosolVisualiseBoudary, videoArgs, saved_gif)"
   ]
  },
  {
   "cell_type": "code",
   "execution_count": 42,
   "id": "b19f0470",
   "metadata": {},
   "outputs": [
    {
     "ename": "EEException",
     "evalue": "A mapped function's arguments cannot be used in client-side operations",
     "output_type": "error",
     "traceback": [
      "\u001b[0;31m---------------------------------------------------------------------------\u001b[0m",
      "\u001b[0;31mEEException\u001b[0m                               Traceback (most recent call last)",
      "Input \u001b[0;32mIn [42]\u001b[0m, in \u001b[0;36m<cell line: 10>\u001b[0;34m()\u001b[0m\n\u001b[1;32m      7\u001b[0m     index \u001b[38;5;241m=\u001b[39m image\u001b[38;5;241m.\u001b[39mget(\u001b[38;5;124m'\u001b[39m\u001b[38;5;124msystem:time_start\u001b[39m\u001b[38;5;124m'\u001b[39m)\u001b[38;5;241m.\u001b[39mgetInfo()\n\u001b[1;32m      8\u001b[0m     \u001b[38;5;28;01mreturn\u001b[39;00m index\n\u001b[0;32m---> 10\u001b[0m res \u001b[38;5;241m=\u001b[39m \u001b[43maerosol_data\u001b[49m\u001b[38;5;241;43m.\u001b[39;49m\u001b[43mmap\u001b[49m\u001b[43m(\u001b[49m\u001b[43mprint_image_id\u001b[49m\u001b[43m)\u001b[49m\n",
      "File \u001b[0;32m~/Projects/global_aerosol/env/lib/python3.9/site-packages/ee/collection.py:204\u001b[0m, in \u001b[0;36mCollection.map\u001b[0;34m(self, algorithm, opt_dropNulls)\u001b[0m\n\u001b[1;32m    202\u001b[0m element_type \u001b[38;5;241m=\u001b[39m \u001b[38;5;28mself\u001b[39m\u001b[38;5;241m.\u001b[39melementType()\n\u001b[1;32m    203\u001b[0m with_cast \u001b[38;5;241m=\u001b[39m \u001b[38;5;28;01mlambda\u001b[39;00m e: algorithm(element_type(e))\n\u001b[0;32m--> 204\u001b[0m \u001b[38;5;28;01mreturn\u001b[39;00m \u001b[38;5;28mself\u001b[39m\u001b[38;5;241m.\u001b[39m_cast(\u001b[43mapifunction\u001b[49m\u001b[38;5;241;43m.\u001b[39;49m\u001b[43mApiFunction\u001b[49m\u001b[38;5;241;43m.\u001b[39;49m\u001b[43mcall_\u001b[49m\u001b[43m(\u001b[49m\n\u001b[1;32m    205\u001b[0m \u001b[43m    \u001b[49m\u001b[38;5;124;43m'\u001b[39;49m\u001b[38;5;124;43mCollection.map\u001b[39;49m\u001b[38;5;124;43m'\u001b[39;49m\u001b[43m,\u001b[49m\u001b[43m \u001b[49m\u001b[38;5;28;43mself\u001b[39;49m\u001b[43m,\u001b[49m\u001b[43m \u001b[49m\u001b[43mwith_cast\u001b[49m\u001b[43m,\u001b[49m\u001b[43m \u001b[49m\u001b[43mopt_dropNulls\u001b[49m\u001b[43m)\u001b[49m)\n",
      "File \u001b[0;32m~/Projects/global_aerosol/env/lib/python3.9/site-packages/ee/apifunction.py:81\u001b[0m, in \u001b[0;36mApiFunction.call_\u001b[0;34m(cls, name, *args, **kwargs)\u001b[0m\n\u001b[1;32m     68\u001b[0m \u001b[38;5;129m@classmethod\u001b[39m\n\u001b[1;32m     69\u001b[0m \u001b[38;5;28;01mdef\u001b[39;00m \u001b[38;5;21mcall_\u001b[39m(\u001b[38;5;28mcls\u001b[39m, name, \u001b[38;5;241m*\u001b[39margs, \u001b[38;5;241m*\u001b[39m\u001b[38;5;241m*\u001b[39mkwargs):\n\u001b[1;32m     70\u001b[0m   \u001b[38;5;124;03m\"\"\"Call a named API function with positional and keyword arguments.\u001b[39;00m\n\u001b[1;32m     71\u001b[0m \n\u001b[1;32m     72\u001b[0m \u001b[38;5;124;03m  Args:\u001b[39;00m\n\u001b[0;32m   (...)\u001b[0m\n\u001b[1;32m     79\u001b[0m \u001b[38;5;124;03m    a recognized return type, the returned value will be cast to that type.\u001b[39;00m\n\u001b[1;32m     80\u001b[0m \u001b[38;5;124;03m  \"\"\"\u001b[39;00m\n\u001b[0;32m---> 81\u001b[0m   \u001b[38;5;28;01mreturn\u001b[39;00m \u001b[38;5;28;43mcls\u001b[39;49m\u001b[38;5;241;43m.\u001b[39;49m\u001b[43mlookup\u001b[49m\u001b[43m(\u001b[49m\u001b[43mname\u001b[49m\u001b[43m)\u001b[49m\u001b[38;5;241;43m.\u001b[39;49m\u001b[43mcall\u001b[49m\u001b[43m(\u001b[49m\u001b[38;5;241;43m*\u001b[39;49m\u001b[43margs\u001b[49m\u001b[43m,\u001b[49m\u001b[43m \u001b[49m\u001b[38;5;241;43m*\u001b[39;49m\u001b[38;5;241;43m*\u001b[39;49m\u001b[43mkwargs\u001b[49m\u001b[43m)\u001b[49m\n",
      "File \u001b[0;32m~/Projects/global_aerosol/env/lib/python3.9/site-packages/ee/function.py:67\u001b[0m, in \u001b[0;36mFunction.call\u001b[0;34m(self, *args, **kwargs)\u001b[0m\n\u001b[1;32m     55\u001b[0m \u001b[38;5;28;01mdef\u001b[39;00m \u001b[38;5;21mcall\u001b[39m(\u001b[38;5;28mself\u001b[39m, \u001b[38;5;241m*\u001b[39margs, \u001b[38;5;241m*\u001b[39m\u001b[38;5;241m*\u001b[39mkwargs):\n\u001b[1;32m     56\u001b[0m   \u001b[38;5;124;03m\"\"\"Calls the function with the given positional and keyword arguments.\u001b[39;00m\n\u001b[1;32m     57\u001b[0m \n\u001b[1;32m     58\u001b[0m \u001b[38;5;124;03m  Args:\u001b[39;00m\n\u001b[0;32m   (...)\u001b[0m\n\u001b[1;32m     65\u001b[0m \u001b[38;5;124;03m    to that type.\u001b[39;00m\n\u001b[1;32m     66\u001b[0m \u001b[38;5;124;03m  \"\"\"\u001b[39;00m\n\u001b[0;32m---> 67\u001b[0m   \u001b[38;5;28;01mreturn\u001b[39;00m \u001b[38;5;28;43mself\u001b[39;49m\u001b[38;5;241;43m.\u001b[39;49m\u001b[43mapply\u001b[49m\u001b[43m(\u001b[49m\u001b[38;5;28;43mself\u001b[39;49m\u001b[38;5;241;43m.\u001b[39;49m\u001b[43mnameArgs\u001b[49m\u001b[43m(\u001b[49m\u001b[43margs\u001b[49m\u001b[43m,\u001b[49m\u001b[43m \u001b[49m\u001b[43mkwargs\u001b[49m\u001b[43m)\u001b[49m\u001b[43m)\u001b[49m\n",
      "File \u001b[0;32m~/Projects/global_aerosol/env/lib/python3.9/site-packages/ee/function.py:80\u001b[0m, in \u001b[0;36mFunction.apply\u001b[0;34m(self, named_args)\u001b[0m\n\u001b[1;32m     69\u001b[0m \u001b[38;5;28;01mdef\u001b[39;00m \u001b[38;5;21mapply\u001b[39m(\u001b[38;5;28mself\u001b[39m, named_args):\n\u001b[1;32m     70\u001b[0m   \u001b[38;5;124;03m\"\"\"Calls the function with a dictionary of named arguments.\u001b[39;00m\n\u001b[1;32m     71\u001b[0m \n\u001b[1;32m     72\u001b[0m \u001b[38;5;124;03m  Args:\u001b[39;00m\n\u001b[0;32m   (...)\u001b[0m\n\u001b[1;32m     78\u001b[0m \u001b[38;5;124;03m    to that type.\u001b[39;00m\n\u001b[1;32m     79\u001b[0m \u001b[38;5;124;03m  \"\"\"\u001b[39;00m\n\u001b[0;32m---> 80\u001b[0m   result \u001b[38;5;241m=\u001b[39m computedobject\u001b[38;5;241m.\u001b[39mComputedObject(\u001b[38;5;28mself\u001b[39m, \u001b[38;5;28;43mself\u001b[39;49m\u001b[38;5;241;43m.\u001b[39;49m\u001b[43mpromoteArgs\u001b[49m\u001b[43m(\u001b[49m\u001b[43mnamed_args\u001b[49m\u001b[43m)\u001b[49m)\n\u001b[1;32m     81\u001b[0m   \u001b[38;5;28;01mreturn\u001b[39;00m Function\u001b[38;5;241m.\u001b[39m_promoter(result, \u001b[38;5;28mself\u001b[39m\u001b[38;5;241m.\u001b[39mgetReturnType())\n",
      "File \u001b[0;32m~/Projects/global_aerosol/env/lib/python3.9/site-packages/ee/function.py:107\u001b[0m, in \u001b[0;36mFunction.promoteArgs\u001b[0;34m(self, args)\u001b[0m\n\u001b[1;32m    105\u001b[0m name \u001b[38;5;241m=\u001b[39m spec[\u001b[38;5;124m'\u001b[39m\u001b[38;5;124mname\u001b[39m\u001b[38;5;124m'\u001b[39m]\n\u001b[1;32m    106\u001b[0m \u001b[38;5;28;01mif\u001b[39;00m name \u001b[38;5;129;01min\u001b[39;00m args:\n\u001b[0;32m--> 107\u001b[0m   promoted_args[name] \u001b[38;5;241m=\u001b[39m \u001b[43mFunction\u001b[49m\u001b[38;5;241;43m.\u001b[39;49m\u001b[43m_promoter\u001b[49m\u001b[43m(\u001b[49m\u001b[43margs\u001b[49m\u001b[43m[\u001b[49m\u001b[43mname\u001b[49m\u001b[43m]\u001b[49m\u001b[43m,\u001b[49m\u001b[43m \u001b[49m\u001b[43mspec\u001b[49m\u001b[43m[\u001b[49m\u001b[38;5;124;43m'\u001b[39;49m\u001b[38;5;124;43mtype\u001b[39;49m\u001b[38;5;124;43m'\u001b[39;49m\u001b[43m]\u001b[49m\u001b[43m)\u001b[49m\n\u001b[1;32m    108\u001b[0m \u001b[38;5;28;01melif\u001b[39;00m \u001b[38;5;129;01mnot\u001b[39;00m spec\u001b[38;5;241m.\u001b[39mget(\u001b[38;5;124m'\u001b[39m\u001b[38;5;124moptional\u001b[39m\u001b[38;5;124m'\u001b[39m):\n\u001b[1;32m    109\u001b[0m   \u001b[38;5;28;01mraise\u001b[39;00m ee_exception\u001b[38;5;241m.\u001b[39mEEException(\n\u001b[1;32m    110\u001b[0m       \u001b[38;5;124m'\u001b[39m\u001b[38;5;124mRequired argument (\u001b[39m\u001b[38;5;132;01m%s\u001b[39;00m\u001b[38;5;124m) missing to function: \u001b[39m\u001b[38;5;132;01m%s\u001b[39;00m\u001b[38;5;124m'\u001b[39m\n\u001b[1;32m    111\u001b[0m       \u001b[38;5;241m%\u001b[39m (name, \u001b[38;5;28mself\u001b[39m\u001b[38;5;241m.\u001b[39mname))\n",
      "File \u001b[0;32m~/Projects/global_aerosol/env/lib/python3.9/site-packages/ee/__init__.py:261\u001b[0m, in \u001b[0;36m_Promote\u001b[0;34m(arg, klass)\u001b[0m\n\u001b[1;32m    259\u001b[0m   \u001b[38;5;28;01melse\u001b[39;00m:\n\u001b[1;32m    260\u001b[0m     args_count \u001b[38;5;241m=\u001b[39m \u001b[38;5;28mlen\u001b[39m(inspect\u001b[38;5;241m.\u001b[39mgetfullargspec(arg)\u001b[38;5;241m.\u001b[39margs)\n\u001b[0;32m--> 261\u001b[0m   \u001b[38;5;28;01mreturn\u001b[39;00m \u001b[43mCustomFunction\u001b[49m\u001b[38;5;241;43m.\u001b[39;49m\u001b[43mcreate\u001b[49m\u001b[43m(\u001b[49m\u001b[43marg\u001b[49m\u001b[43m,\u001b[49m\u001b[43m \u001b[49m\u001b[38;5;124;43m'\u001b[39;49m\u001b[38;5;124;43mObject\u001b[39;49m\u001b[38;5;124;43m'\u001b[39;49m\u001b[43m,\u001b[49m\u001b[43m \u001b[49m\u001b[43m[\u001b[49m\u001b[38;5;124;43m'\u001b[39;49m\u001b[38;5;124;43mObject\u001b[39;49m\u001b[38;5;124;43m'\u001b[39;49m\u001b[43m]\u001b[49m\u001b[43m \u001b[49m\u001b[38;5;241;43m*\u001b[39;49m\u001b[43m \u001b[49m\u001b[43margs_count\u001b[49m\u001b[43m)\u001b[49m\n\u001b[1;32m    262\u001b[0m \u001b[38;5;28;01melif\u001b[39;00m \u001b[38;5;28misinstance\u001b[39m(arg, Encodable):\n\u001b[1;32m    263\u001b[0m   \u001b[38;5;66;03m# An ee.Function or a computed function like the return value of\u001b[39;00m\n\u001b[1;32m    264\u001b[0m   \u001b[38;5;66;03m# Image.parseExpression().\u001b[39;00m\n\u001b[1;32m    265\u001b[0m   \u001b[38;5;28;01mreturn\u001b[39;00m arg\n",
      "File \u001b[0;32m~/Projects/global_aerosol/env/lib/python3.9/site-packages/ee/customfunction.py:125\u001b[0m, in \u001b[0;36mCustomFunction.create\u001b[0;34m(func, return_type, arg_types)\u001b[0m\n\u001b[1;32m    119\u001b[0m args \u001b[38;5;241m=\u001b[39m [{\u001b[38;5;124m'\u001b[39m\u001b[38;5;124mname\u001b[39m\u001b[38;5;124m'\u001b[39m: \u001b[38;5;28;01mNone\u001b[39;00m, \u001b[38;5;124m'\u001b[39m\u001b[38;5;124mtype\u001b[39m\u001b[38;5;124m'\u001b[39m: StringifyType(i)} \u001b[38;5;28;01mfor\u001b[39;00m i \u001b[38;5;129;01min\u001b[39;00m arg_types]\n\u001b[1;32m    120\u001b[0m signature \u001b[38;5;241m=\u001b[39m {\n\u001b[1;32m    121\u001b[0m     \u001b[38;5;124m'\u001b[39m\u001b[38;5;124mname\u001b[39m\u001b[38;5;124m'\u001b[39m: \u001b[38;5;124m'\u001b[39m\u001b[38;5;124m'\u001b[39m,\n\u001b[1;32m    122\u001b[0m     \u001b[38;5;124m'\u001b[39m\u001b[38;5;124mreturns\u001b[39m\u001b[38;5;124m'\u001b[39m: StringifyType(return_type),\n\u001b[1;32m    123\u001b[0m     \u001b[38;5;124m'\u001b[39m\u001b[38;5;124margs\u001b[39m\u001b[38;5;124m'\u001b[39m: args\n\u001b[1;32m    124\u001b[0m }\n\u001b[0;32m--> 125\u001b[0m \u001b[38;5;28;01mreturn\u001b[39;00m \u001b[43mCustomFunction\u001b[49m\u001b[43m(\u001b[49m\u001b[43msignature\u001b[49m\u001b[43m,\u001b[49m\u001b[43m \u001b[49m\u001b[43mfunc\u001b[49m\u001b[43m)\u001b[49m\n",
      "File \u001b[0;32m~/Projects/global_aerosol/env/lib/python3.9/site-packages/ee/customfunction.py:43\u001b[0m, in \u001b[0;36mCustomFunction.__init__\u001b[0;34m(self, signature, body)\u001b[0m\n\u001b[1;32m     29\u001b[0m \u001b[38;5;124;03m\"\"\"Creates a function defined by a given expression with unbound variables.\u001b[39;00m\n\u001b[1;32m     30\u001b[0m \n\u001b[1;32m     31\u001b[0m \u001b[38;5;124;03mThe expression is created by evaluating the given function\u001b[39;00m\n\u001b[0;32m   (...)\u001b[0m\n\u001b[1;32m     38\u001b[0m \u001b[38;5;124;03m  body: The Python function to evaluate.\u001b[39;00m\n\u001b[1;32m     39\u001b[0m \u001b[38;5;124;03m\"\"\"\u001b[39;00m\n\u001b[1;32m     40\u001b[0m variables \u001b[38;5;241m=\u001b[39m [CustomFunction\u001b[38;5;241m.\u001b[39mvariable(arg[\u001b[38;5;124m'\u001b[39m\u001b[38;5;124mtype\u001b[39m\u001b[38;5;124m'\u001b[39m], arg[\u001b[38;5;124m'\u001b[39m\u001b[38;5;124mname\u001b[39m\u001b[38;5;124m'\u001b[39m])\n\u001b[1;32m     41\u001b[0m              \u001b[38;5;28;01mfor\u001b[39;00m arg \u001b[38;5;129;01min\u001b[39;00m signature[\u001b[38;5;124m'\u001b[39m\u001b[38;5;124margs\u001b[39m\u001b[38;5;124m'\u001b[39m]]\n\u001b[0;32m---> 43\u001b[0m \u001b[38;5;28;01mif\u001b[39;00m \u001b[43mbody\u001b[49m\u001b[43m(\u001b[49m\u001b[38;5;241;43m*\u001b[39;49m\u001b[43mvariables\u001b[49m\u001b[43m)\u001b[49m \u001b[38;5;129;01mis\u001b[39;00m \u001b[38;5;28;01mNone\u001b[39;00m:\n\u001b[1;32m     44\u001b[0m   \u001b[38;5;28;01mraise\u001b[39;00m ee_exception\u001b[38;5;241m.\u001b[39mEEException(\u001b[38;5;124m'\u001b[39m\u001b[38;5;124mUser-defined methods must return a value\u001b[39m\u001b[38;5;124m'\u001b[39m)\n\u001b[1;32m     46\u001b[0m \u001b[38;5;66;03m# The signature of the function.\u001b[39;00m\n",
      "File \u001b[0;32m~/Projects/global_aerosol/env/lib/python3.9/site-packages/ee/collection.py:203\u001b[0m, in \u001b[0;36mCollection.map.<locals>.<lambda>\u001b[0;34m(e)\u001b[0m\n\u001b[1;32m    185\u001b[0m \u001b[38;5;124;03m\"\"\"Maps an algorithm over a collection.\u001b[39;00m\n\u001b[1;32m    186\u001b[0m \n\u001b[1;32m    187\u001b[0m \u001b[38;5;124;03mArgs:\u001b[39;00m\n\u001b[0;32m   (...)\u001b[0m\n\u001b[1;32m    200\u001b[0m \u001b[38;5;124;03m  ee_exception.EEException: if algorithm is not a function.\u001b[39;00m\n\u001b[1;32m    201\u001b[0m \u001b[38;5;124;03m\"\"\"\u001b[39;00m\n\u001b[1;32m    202\u001b[0m element_type \u001b[38;5;241m=\u001b[39m \u001b[38;5;28mself\u001b[39m\u001b[38;5;241m.\u001b[39melementType()\n\u001b[0;32m--> 203\u001b[0m with_cast \u001b[38;5;241m=\u001b[39m \u001b[38;5;28;01mlambda\u001b[39;00m e: \u001b[43malgorithm\u001b[49m\u001b[43m(\u001b[49m\u001b[43melement_type\u001b[49m\u001b[43m(\u001b[49m\u001b[43me\u001b[49m\u001b[43m)\u001b[49m\u001b[43m)\u001b[49m\n\u001b[1;32m    204\u001b[0m \u001b[38;5;28;01mreturn\u001b[39;00m \u001b[38;5;28mself\u001b[39m\u001b[38;5;241m.\u001b[39m_cast(apifunction\u001b[38;5;241m.\u001b[39mApiFunction\u001b[38;5;241m.\u001b[39mcall_(\n\u001b[1;32m    205\u001b[0m     \u001b[38;5;124m'\u001b[39m\u001b[38;5;124mCollection.map\u001b[39m\u001b[38;5;124m'\u001b[39m, \u001b[38;5;28mself\u001b[39m, with_cast, opt_dropNulls))\n",
      "Input \u001b[0;32mIn [42]\u001b[0m, in \u001b[0;36mprint_image_id\u001b[0;34m(image)\u001b[0m\n\u001b[1;32m      6\u001b[0m \u001b[38;5;28;01mdef\u001b[39;00m \u001b[38;5;21mprint_image_id\u001b[39m(image):\n\u001b[0;32m----> 7\u001b[0m     index \u001b[38;5;241m=\u001b[39m \u001b[43mimage\u001b[49m\u001b[38;5;241;43m.\u001b[39;49m\u001b[43mget\u001b[49m\u001b[43m(\u001b[49m\u001b[38;5;124;43m'\u001b[39;49m\u001b[38;5;124;43msystem:time_start\u001b[39;49m\u001b[38;5;124;43m'\u001b[39;49m\u001b[43m)\u001b[49m\u001b[38;5;241;43m.\u001b[39;49m\u001b[43mgetInfo\u001b[49m\u001b[43m(\u001b[49m\u001b[43m)\u001b[49m\n\u001b[1;32m      8\u001b[0m     \u001b[38;5;28;01mreturn\u001b[39;00m index\n",
      "File \u001b[0;32m~/Projects/global_aerosol/env/lib/python3.9/site-packages/ee/computedobject.py:98\u001b[0m, in \u001b[0;36mComputedObject.getInfo\u001b[0;34m(self)\u001b[0m\n\u001b[1;32m     92\u001b[0m \u001b[38;5;28;01mdef\u001b[39;00m \u001b[38;5;21mgetInfo\u001b[39m(\u001b[38;5;28mself\u001b[39m):\n\u001b[1;32m     93\u001b[0m   \u001b[38;5;124;03m\"\"\"Fetch and return information about this object.\u001b[39;00m\n\u001b[1;32m     94\u001b[0m \n\u001b[1;32m     95\u001b[0m \u001b[38;5;124;03m  Returns:\u001b[39;00m\n\u001b[1;32m     96\u001b[0m \u001b[38;5;124;03m    The object can evaluate to anything.\u001b[39;00m\n\u001b[1;32m     97\u001b[0m \u001b[38;5;124;03m  \"\"\"\u001b[39;00m\n\u001b[0;32m---> 98\u001b[0m   \u001b[38;5;28;01mreturn\u001b[39;00m \u001b[43mdata\u001b[49m\u001b[38;5;241;43m.\u001b[39;49m\u001b[43mcomputeValue\u001b[49m\u001b[43m(\u001b[49m\u001b[38;5;28;43mself\u001b[39;49m\u001b[43m)\u001b[49m\n",
      "File \u001b[0;32m~/Projects/global_aerosol/env/lib/python3.9/site-packages/ee/data.py:733\u001b[0m, in \u001b[0;36mcomputeValue\u001b[0;34m(obj)\u001b[0m\n\u001b[1;32m    724\u001b[0m \u001b[38;5;28;01mdef\u001b[39;00m \u001b[38;5;21mcomputeValue\u001b[39m(obj):\n\u001b[1;32m    725\u001b[0m   \u001b[38;5;124;03m\"\"\"Sends a request to compute a value.\u001b[39;00m\n\u001b[1;32m    726\u001b[0m \n\u001b[1;32m    727\u001b[0m \u001b[38;5;124;03m  Args:\u001b[39;00m\n\u001b[0;32m   (...)\u001b[0m\n\u001b[1;32m    731\u001b[0m \u001b[38;5;124;03m    The result of evaluating that object on the server.\u001b[39;00m\n\u001b[1;32m    732\u001b[0m \u001b[38;5;124;03m  \"\"\"\u001b[39;00m\n\u001b[0;32m--> 733\u001b[0m   body \u001b[38;5;241m=\u001b[39m {\u001b[38;5;124m'\u001b[39m\u001b[38;5;124mexpression\u001b[39m\u001b[38;5;124m'\u001b[39m: \u001b[43mserializer\u001b[49m\u001b[38;5;241;43m.\u001b[39;49m\u001b[43mencode\u001b[49m\u001b[43m(\u001b[49m\u001b[43mobj\u001b[49m\u001b[43m,\u001b[49m\u001b[43m \u001b[49m\u001b[43mfor_cloud_api\u001b[49m\u001b[38;5;241;43m=\u001b[39;49m\u001b[38;5;28;43;01mTrue\u001b[39;49;00m\u001b[43m)\u001b[49m}\n\u001b[1;32m    734\u001b[0m   workload_tag \u001b[38;5;241m=\u001b[39m getWorkloadTag()\n\u001b[1;32m    735\u001b[0m   \u001b[38;5;28;01mif\u001b[39;00m workload_tag:\n",
      "File \u001b[0;32m~/Projects/global_aerosol/env/lib/python3.9/site-packages/ee/serializer.py:298\u001b[0m, in \u001b[0;36mencode\u001b[0;34m(obj, is_compound, for_cloud_api, unbound_name)\u001b[0m\n\u001b[1;32m    282\u001b[0m \u001b[38;5;124;03m\"\"\"Serialize an object to a JSON-compatible structure for API calls.\u001b[39;00m\n\u001b[1;32m    283\u001b[0m \n\u001b[1;32m    284\u001b[0m \u001b[38;5;124;03mArgs:\u001b[39;00m\n\u001b[0;32m   (...)\u001b[0m\n\u001b[1;32m    294\u001b[0m \u001b[38;5;124;03m  A JSON-compatible structure representing the input.\u001b[39;00m\n\u001b[1;32m    295\u001b[0m \u001b[38;5;124;03m\"\"\"\u001b[39;00m\n\u001b[1;32m    296\u001b[0m serializer \u001b[38;5;241m=\u001b[39m Serializer(\n\u001b[1;32m    297\u001b[0m     is_compound, for_cloud_api\u001b[38;5;241m=\u001b[39mfor_cloud_api, unbound_name\u001b[38;5;241m=\u001b[39munbound_name)\n\u001b[0;32m--> 298\u001b[0m \u001b[38;5;28;01mreturn\u001b[39;00m \u001b[43mserializer\u001b[49m\u001b[38;5;241;43m.\u001b[39;49m\u001b[43m_encode\u001b[49m\u001b[43m(\u001b[49m\u001b[43mobj\u001b[49m\u001b[43m)\u001b[49m\n",
      "File \u001b[0;32m~/Projects/global_aerosol/env/lib/python3.9/site-packages/ee/serializer.py:80\u001b[0m, in \u001b[0;36mSerializer._encode\u001b[0;34m(self, obj)\u001b[0m\n\u001b[1;32m     71\u001b[0m \u001b[38;5;124;03m\"\"\"Encodes a top level object to be executed server-side.\u001b[39;00m\n\u001b[1;32m     72\u001b[0m \n\u001b[1;32m     73\u001b[0m \u001b[38;5;124;03mArgs:\u001b[39;00m\n\u001b[0;32m   (...)\u001b[0m\n\u001b[1;32m     77\u001b[0m \u001b[38;5;124;03m  An encoded object ready for JSON serialization.\u001b[39;00m\n\u001b[1;32m     78\u001b[0m \u001b[38;5;124;03m\"\"\"\u001b[39;00m\n\u001b[1;32m     79\u001b[0m \u001b[38;5;28;01mif\u001b[39;00m \u001b[38;5;28mself\u001b[39m\u001b[38;5;241m.\u001b[39m_for_cloud_api:\n\u001b[0;32m---> 80\u001b[0m   \u001b[38;5;28;01mreturn\u001b[39;00m \u001b[38;5;28;43mself\u001b[39;49m\u001b[38;5;241;43m.\u001b[39;49m\u001b[43m_encode_for_cloud_api\u001b[49m\u001b[43m(\u001b[49m\u001b[43mobj\u001b[49m\u001b[43m)\u001b[49m\n\u001b[1;32m     81\u001b[0m value \u001b[38;5;241m=\u001b[39m \u001b[38;5;28mself\u001b[39m\u001b[38;5;241m.\u001b[39m_encode_value(obj)\n\u001b[1;32m     82\u001b[0m \u001b[38;5;28;01mif\u001b[39;00m \u001b[38;5;28mself\u001b[39m\u001b[38;5;241m.\u001b[39m_is_compound:\n",
      "File \u001b[0;32m~/Projects/global_aerosol/env/lib/python3.9/site-packages/ee/serializer.py:98\u001b[0m, in \u001b[0;36mSerializer._encode_for_cloud_api\u001b[0;34m(self, obj)\u001b[0m\n\u001b[1;32m     96\u001b[0m \u001b[38;5;28;01mdef\u001b[39;00m \u001b[38;5;21m_encode_for_cloud_api\u001b[39m(\u001b[38;5;28mself\u001b[39m, obj):\n\u001b[1;32m     97\u001b[0m   \u001b[38;5;124;03m\"\"\"Encodes an object as an Expression or quasi-Expression.\"\"\"\u001b[39;00m\n\u001b[0;32m---> 98\u001b[0m   value \u001b[38;5;241m=\u001b[39m \u001b[38;5;28;43mself\u001b[39;49m\u001b[38;5;241;43m.\u001b[39;49m\u001b[43m_encode_cloud_object\u001b[49m\u001b[43m(\u001b[49m\u001b[43mobj\u001b[49m\u001b[43m)\u001b[49m\n\u001b[1;32m     99\u001b[0m   \u001b[38;5;28;01mif\u001b[39;00m \u001b[38;5;28mself\u001b[39m\u001b[38;5;241m.\u001b[39m_is_compound:\n\u001b[1;32m    100\u001b[0m     \u001b[38;5;66;03m# Wrap the scopes and final value into an Expression.\u001b[39;00m\n\u001b[1;32m    101\u001b[0m     value \u001b[38;5;241m=\u001b[39m _ExpressionOptimizer(value, \u001b[38;5;28mself\u001b[39m\u001b[38;5;241m.\u001b[39m_scope)\u001b[38;5;241m.\u001b[39moptimize()\n",
      "File \u001b[0;32m~/Projects/global_aerosol/env/lib/python3.9/site-packages/ee/serializer.py:221\u001b[0m, in \u001b[0;36mSerializer._encode_cloud_object\u001b[0;34m(self, obj)\u001b[0m\n\u001b[1;32m    209\u001b[0m   result \u001b[38;5;241m=\u001b[39m {\n\u001b[1;32m    210\u001b[0m       \u001b[38;5;124m'\u001b[39m\u001b[38;5;124mfunctionInvocationValue\u001b[39m\u001b[38;5;124m'\u001b[39m: {\n\u001b[1;32m    211\u001b[0m           \u001b[38;5;124m'\u001b[39m\u001b[38;5;124mfunctionName\u001b[39m\u001b[38;5;124m'\u001b[39m: \u001b[38;5;124m'\u001b[39m\u001b[38;5;124mDate\u001b[39m\u001b[38;5;124m'\u001b[39m,\n\u001b[0;32m   (...)\u001b[0m\n\u001b[1;32m    217\u001b[0m       }\n\u001b[1;32m    218\u001b[0m   }\n\u001b[1;32m    219\u001b[0m \u001b[38;5;28;01melif\u001b[39;00m \u001b[38;5;28misinstance\u001b[39m(obj, encodable\u001b[38;5;241m.\u001b[39mEncodable):\n\u001b[1;32m    220\u001b[0m   \u001b[38;5;66;03m# Some objects know how to encode themselves.\u001b[39;00m\n\u001b[0;32m--> 221\u001b[0m   result \u001b[38;5;241m=\u001b[39m \u001b[43mobj\u001b[49m\u001b[38;5;241;43m.\u001b[39;49m\u001b[43mencode_cloud_value\u001b[49m\u001b[43m(\u001b[49m\u001b[38;5;28;43mself\u001b[39;49m\u001b[38;5;241;43m.\u001b[39;49m\u001b[43m_encode_cloud_object\u001b[49m\u001b[43m)\u001b[49m\n\u001b[1;32m    222\u001b[0m \u001b[38;5;28;01melif\u001b[39;00m \u001b[38;5;28misinstance\u001b[39m(obj, (\u001b[38;5;28mlist\u001b[39m, \u001b[38;5;28mtuple\u001b[39m)):\n\u001b[1;32m    223\u001b[0m   \u001b[38;5;66;03m# Lists are encoded recursively.\u001b[39;00m\n\u001b[1;32m    224\u001b[0m   \u001b[38;5;28;01mif\u001b[39;00m \u001b[38;5;28mself\u001b[39m\u001b[38;5;241m.\u001b[39m_is_compound:\n",
      "File \u001b[0;32m~/Projects/global_aerosol/env/lib/python3.9/site-packages/ee/computedobject.py:152\u001b[0m, in \u001b[0;36mComputedObject.encode_cloud_value\u001b[0;34m(self, encoder)\u001b[0m\n\u001b[1;32m    150\u001b[0m   value \u001b[38;5;241m=\u001b[39m \u001b[38;5;28mself\u001b[39m\u001b[38;5;241m.\u001b[39margs[name]\n\u001b[1;32m    151\u001b[0m   \u001b[38;5;28;01mif\u001b[39;00m value \u001b[38;5;129;01mis\u001b[39;00m \u001b[38;5;129;01mnot\u001b[39;00m \u001b[38;5;28;01mNone\u001b[39;00m:\n\u001b[0;32m--> 152\u001b[0m     encoded_args[name] \u001b[38;5;241m=\u001b[39m {\u001b[38;5;124m'\u001b[39m\u001b[38;5;124mvalueReference\u001b[39m\u001b[38;5;124m'\u001b[39m: \u001b[43mencoder\u001b[49m\u001b[43m(\u001b[49m\u001b[43mvalue\u001b[49m\u001b[43m)\u001b[49m}\n\u001b[1;32m    153\u001b[0m invocation[\u001b[38;5;124m'\u001b[39m\u001b[38;5;124marguments\u001b[39m\u001b[38;5;124m'\u001b[39m] \u001b[38;5;241m=\u001b[39m encoded_args\n\u001b[1;32m    154\u001b[0m \u001b[38;5;28;01mreturn\u001b[39;00m {\u001b[38;5;124m'\u001b[39m\u001b[38;5;124mfunctionInvocationValue\u001b[39m\u001b[38;5;124m'\u001b[39m: invocation}\n",
      "File \u001b[0;32m~/Projects/global_aerosol/env/lib/python3.9/site-packages/ee/serializer.py:221\u001b[0m, in \u001b[0;36mSerializer._encode_cloud_object\u001b[0;34m(self, obj)\u001b[0m\n\u001b[1;32m    209\u001b[0m   result \u001b[38;5;241m=\u001b[39m {\n\u001b[1;32m    210\u001b[0m       \u001b[38;5;124m'\u001b[39m\u001b[38;5;124mfunctionInvocationValue\u001b[39m\u001b[38;5;124m'\u001b[39m: {\n\u001b[1;32m    211\u001b[0m           \u001b[38;5;124m'\u001b[39m\u001b[38;5;124mfunctionName\u001b[39m\u001b[38;5;124m'\u001b[39m: \u001b[38;5;124m'\u001b[39m\u001b[38;5;124mDate\u001b[39m\u001b[38;5;124m'\u001b[39m,\n\u001b[0;32m   (...)\u001b[0m\n\u001b[1;32m    217\u001b[0m       }\n\u001b[1;32m    218\u001b[0m   }\n\u001b[1;32m    219\u001b[0m \u001b[38;5;28;01melif\u001b[39;00m \u001b[38;5;28misinstance\u001b[39m(obj, encodable\u001b[38;5;241m.\u001b[39mEncodable):\n\u001b[1;32m    220\u001b[0m   \u001b[38;5;66;03m# Some objects know how to encode themselves.\u001b[39;00m\n\u001b[0;32m--> 221\u001b[0m   result \u001b[38;5;241m=\u001b[39m \u001b[43mobj\u001b[49m\u001b[38;5;241;43m.\u001b[39;49m\u001b[43mencode_cloud_value\u001b[49m\u001b[43m(\u001b[49m\u001b[38;5;28;43mself\u001b[39;49m\u001b[38;5;241;43m.\u001b[39;49m\u001b[43m_encode_cloud_object\u001b[49m\u001b[43m)\u001b[49m\n\u001b[1;32m    222\u001b[0m \u001b[38;5;28;01melif\u001b[39;00m \u001b[38;5;28misinstance\u001b[39m(obj, (\u001b[38;5;28mlist\u001b[39m, \u001b[38;5;28mtuple\u001b[39m)):\n\u001b[1;32m    223\u001b[0m   \u001b[38;5;66;03m# Lists are encoded recursively.\u001b[39;00m\n\u001b[1;32m    224\u001b[0m   \u001b[38;5;28;01mif\u001b[39;00m \u001b[38;5;28mself\u001b[39m\u001b[38;5;241m.\u001b[39m_is_compound:\n",
      "File \u001b[0;32m~/Projects/global_aerosol/env/lib/python3.9/site-packages/ee/computedobject.py:137\u001b[0m, in \u001b[0;36mComputedObject.encode_cloud_value\u001b[0;34m(self, encoder)\u001b[0m\n\u001b[1;32m    130\u001b[0m     ref \u001b[38;5;241m=\u001b[39m encoder\u001b[38;5;241m.\u001b[39m\u001b[38;5;18m__self__\u001b[39m\u001b[38;5;241m.\u001b[39munbound_name\n\u001b[1;32m    131\u001b[0m   \u001b[38;5;28;01mif\u001b[39;00m ref \u001b[38;5;129;01mis\u001b[39;00m \u001b[38;5;28;01mNone\u001b[39;00m:\n\u001b[1;32m    132\u001b[0m     \u001b[38;5;66;03m# We are trying to call getInfo() or make some other server call inside\u001b[39;00m\n\u001b[1;32m    133\u001b[0m     \u001b[38;5;66;03m# a function passed to collection.map() or .iterate(), and the call uses\u001b[39;00m\n\u001b[1;32m    134\u001b[0m     \u001b[38;5;66;03m# one of the function arguments. The argument will be unbound outside of\u001b[39;00m\n\u001b[1;32m    135\u001b[0m     \u001b[38;5;66;03m# the map operation and cannot be evaluated. See the Count Functions\u001b[39;00m\n\u001b[1;32m    136\u001b[0m     \u001b[38;5;66;03m# case in customfunction.py for details on the unbound_name mechanism.\u001b[39;00m\n\u001b[0;32m--> 137\u001b[0m     \u001b[38;5;28;01mraise\u001b[39;00m ee_exception\u001b[38;5;241m.\u001b[39mEEException(\n\u001b[1;32m    138\u001b[0m         \u001b[38;5;124m'\u001b[39m\u001b[38;5;124mA mapped function\u001b[39m\u001b[38;5;130;01m\\'\u001b[39;00m\u001b[38;5;124ms arguments cannot be used in client-side operations\u001b[39m\u001b[38;5;124m'\u001b[39m\n\u001b[1;32m    139\u001b[0m     )\n\u001b[1;32m    140\u001b[0m   \u001b[38;5;28;01mreturn\u001b[39;00m {\u001b[38;5;124m'\u001b[39m\u001b[38;5;124margumentReference\u001b[39m\u001b[38;5;124m'\u001b[39m: ref}\n\u001b[1;32m    141\u001b[0m \u001b[38;5;28;01melse\u001b[39;00m:\n",
      "\u001b[0;31mEEException\u001b[0m: A mapped function's arguments cannot be used in client-side operations"
     ]
    }
   ],
   "source": [
    "import numpy as np\n",
    "out_gif = os.path.join(os.path.expanduser('~'), 'Downloads/output3.gif')\n",
    "\n",
    "dates = np.linspace(1, data_size, data_size)\n",
    "\n",
    "def print_image_id(image):\n",
    "    index = image.get('system:time_start').getInfo()\n",
    "    return index\n",
    "\n",
    "res = aerosol_data.map(print_image_id)\n",
    "# geemap.add_text_to_gif(\n",
    "#     saved_gif,\n",
    "#     out_gif,\n",
    "#     xy=('3%', '5%'),\n",
    "#     text_sequence=dates,\n",
    "#     font_size=30,\n",
    "#     font_color='#ffffff',\n",
    "# )\n",
    "# geemap.show_image(out_gif)"
   ]
  },
  {
   "cell_type": "code",
   "execution_count": null,
   "id": "3e8cf4d3",
   "metadata": {},
   "outputs": [],
   "source": []
  }
 ],
 "metadata": {
  "kernelspec": {
   "display_name": "Python 3 (ipykernel)",
   "language": "python",
   "name": "python3"
  },
  "language_info": {
   "codemirror_mode": {
    "name": "ipython",
    "version": 3
   },
   "file_extension": ".py",
   "mimetype": "text/x-python",
   "name": "python",
   "nbconvert_exporter": "python",
   "pygments_lexer": "ipython3",
   "version": "3.9.0"
  }
 },
 "nbformat": 4,
 "nbformat_minor": 5
}
