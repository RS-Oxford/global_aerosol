{
 "cells": [
  {
   "cell_type": "code",
   "execution_count": 2,
   "id": "31e4d42b",
   "metadata": {},
   "outputs": [
    {
     "data": {
      "text/html": [
       "<p>To authorize access needed by Earth Engine, open the following\n",
       "        URL in a web browser and follow the instructions:</p>\n",
       "        <p><a href=https://code.earthengine.google.com/client-auth?scopes=https%3A//www.googleapis.com/auth/earthengine%20https%3A//www.googleapis.com/auth/devstorage.full_control&request_id=N8gLgwk8CZPM1IcI0wmnplYhIXf5SgINCKJBNJ1lMFA&tc=iHpxrH6Mz-4bzlegAYhGlSOet5rvORII5a58TQja2fg&cc=B9aZF7iqjori9gKy5DIU607LqZU_I98P6S7-u8ad95A>https://code.earthengine.google.com/client-auth?scopes=https%3A//www.googleapis.com/auth/earthengine%20https%3A//www.googleapis.com/auth/devstorage.full_control&request_id=N8gLgwk8CZPM1IcI0wmnplYhIXf5SgINCKJBNJ1lMFA&tc=iHpxrH6Mz-4bzlegAYhGlSOet5rvORII5a58TQja2fg&cc=B9aZF7iqjori9gKy5DIU607LqZU_I98P6S7-u8ad95A</a></p>\n",
       "        <p>The authorization workflow will generate a code, which you should paste in the box below.</p>\n",
       "        "
      ],
      "text/plain": [
       "<IPython.core.display.HTML object>"
      ]
     },
     "metadata": {},
     "output_type": "display_data"
    },
    {
     "name": "stdout",
     "output_type": "stream",
     "text": [
      "Enter verification code: 4/1AdQt8qgMYj2nIenmQkEk-2kNHoqPDMMQSs1udsL0pD5zce6j1LQ91nIepd8\n",
      "\n",
      "Successfully saved authorization token.\n"
     ]
    }
   ],
   "source": [
    "import ee\n",
    "# Trigger the authentication flow.\n",
    "ee.Authenticate()\n",
    "\n",
    "# Initialize the library.\n",
    "ee.Initialize()"
   ]
  },
  {
   "cell_type": "code",
   "execution_count": 53,
   "id": "de1704e9",
   "metadata": {},
   "outputs": [
    {
     "name": "stdout",
     "output_type": "stream",
     "text": [
      "Number of filtered images: 32\n"
     ]
    }
   ],
   "source": [
    "# Import CAMS aerosol data, and filter data.\n",
    "aerosol_data = ee.ImageCollection('ECMWF/CAMS/NRT').filter(ee.Filter.date('2020-06-15', '2020-06-19')).select('total_aerosol_optical_depth_at_550nm_surface').filterMetadata('model_initialization_datetime','equals','2020-06-15T00:00:00')\n",
    "data_size = aerosol_data.size().getInfo()\n",
    "print('Number of filtered images:', data_size)\n"
   ]
  },
  {
   "cell_type": "code",
   "execution_count": 54,
   "id": "edd391e3",
   "metadata": {},
   "outputs": [],
   "source": [
    "# definte AOI over north Africa\n",
    "AOI_NorthAfrica = ee.Geometry.Polygon([[[-61.0, 58.0], [-61.0, -36.0], [53.0, -36.0], [53.0, 58.0]]]);\n"
   ]
  },
  {
   "cell_type": "code",
   "execution_count": 55,
   "id": "12f4637d",
   "metadata": {},
   "outputs": [],
   "source": [
    "# load boundary data (plotting global land boundary)\n",
    "global_boundary = ee.FeatureCollection('USDOS/LSIB_SIMPLE/2017');\n"
   ]
  },
  {
   "cell_type": "code",
   "execution_count": 56,
   "id": "0507dea8",
   "metadata": {},
   "outputs": [],
   "source": [
    "# visualise feature collection (boundary)\n",
    "# Define an empty image to paint features to.\n",
    "empty = ee.Image().byte();\n",
    "\n",
    "# Paint country feature edges to the empty image.\n",
    "boundaryOutline = empty.paint(**{\n",
    "  'featureCollection': global_boundary,\n",
    "  'color': 1,\n",
    "  'width': 1,\n",
    "});\n"
   ]
  },
  {
   "cell_type": "code",
   "execution_count": 106,
   "id": "d4cf4e0d",
   "metadata": {},
   "outputs": [
    {
     "name": "stdout",
     "output_type": "stream",
     "text": [
      "https://earthengine.googleapis.com/v1alpha/projects/earthengine-legacy/videoThumbnails/37d8e74067cc1693f191eb6f4d6cd189-3cd32db9c3b1bb82935ef112b4bdff61:getPixels\n",
      "Generating URL...\n",
      "Downloading GIF image from https://earthengine.googleapis.com/v1alpha/projects/earthengine-legacy/videoThumbnails/37d8e74067cc1693f191eb6f4d6cd189-39fdeac1640a30b92f2ecec12400b06c:getPixels\n",
      "Please wait ...\n",
      "The GIF image has been saved to: /Users/rs/Downloads/sahara_dust_2020.gif\n"
     ]
    }
   ],
   "source": [
    "visArgs = {\n",
    "  'min': 0.000096,\n",
    "  'max': 3.582552,\n",
    "  'palette': [\n",
    "    \"5E4FA2\",\n",
    "    \"3288BD\",\n",
    "    \"66C2A5\",\n",
    "    \"ABE0A4\",\n",
    "    \"E6F598\",\n",
    "    \"FFFFBF\",\n",
    "    \"FEE08B\",\n",
    "    \"FDAE61\",\n",
    "    \"F46D43\",\n",
    "    \"D53E4F\",\n",
    "    \"9E0142\",\n",
    "  ]\n",
    "};\n",
    "\n",
    "\n",
    "def addImageVisualise(image):\n",
    "    return image.visualize(**visArgs)\n",
    "\n",
    "def addBoundary(image):\n",
    "    index = image.get('system:time_start')\n",
    "    return image.blend(boundaryOutline.visualize(**{'palette': '000000'}))\n",
    "\n",
    "aeosolVisualise = aerosol_data.map(addImageVisualise)\n",
    "aeosolVisualiseBoudary = aeosolVisualise.map(addBoundary)\n",
    "\n",
    "videoArgs = {\n",
    "  'dimensions': 1000,\n",
    "  'region': AOI_NorthAfrica,\n",
    "  'framesPerSecond': 1,\n",
    "  'crs': 'EPSG:3857'\n",
    "};\n",
    "\n",
    "# display video in a link\n",
    "print(aeosolVisualiseBoudary.getVideoThumbURL(videoArgs));\n",
    "\n",
    "import geemap\n",
    "import os\n",
    "saved_gif = os.path.join(os.path.expanduser('~'), 'Downloads/sahara_dust_2020.gif')\n",
    "geemap.download_ee_video(aeosolVisualiseBoudary, videoArgs, saved_gif)"
   ]
  },
  {
   "cell_type": "code",
   "execution_count": 107,
   "id": "b19f0470",
   "metadata": {},
   "outputs": [
    {
     "data": {
      "text/plain": [
       "0"
      ]
     },
     "execution_count": 107,
     "metadata": {},
     "output_type": "execute_result"
    }
   ],
   "source": [
    "from datetime import datetime, timedelta\n",
    "import numpy as np\n",
    "\n",
    "initialization_datetime = aerosol_data.reduceColumns(ee.Reducer.toList(), [\"model_initialization_datetime\"]).get('list').getInfo()\n",
    "model_forecast_hour = aerosol_data.reduceColumns(ee.Reducer.toList(), [\"model_forecast_hour\"]).get('list').getInfo()\n",
    "model_forecast_datetime = []\n",
    "\n",
    "for i in range(len(initialization_datetime)):\n",
    "    \n",
    "    initialization_datetime_i = datetime.strptime(initialization_datetime[i], '%Y-%m-%dT%H:%M:%S')\n",
    "    model_forecast_datetime_i = initialization_datetime_i + timedelta(hours=int(model_forecast_hour[i]))\n",
    "    model_forecast_datetime.append(model_forecast_datetime_i)\n",
    "\n",
    "    \n",
    "out_gif = os.path.join(os.path.expanduser('~'), 'Downloads/sahara_dust_2020_saved.gif')  \n",
    "geemap.add_text_to_gif(\n",
    "    saved_gif,\n",
    "    out_gif,\n",
    "    xy=('3%', '2%'),\n",
    "    text_sequence=model_forecast_datetime,\n",
    "    font_size=30,\n",
    "    font_color='#ffffff',\n",
    ")\n",
    "os.system('rm -rf %s'%saved_gif)\n"
   ]
  },
  {
   "cell_type": "code",
   "execution_count": null,
   "id": "a21fec08",
   "metadata": {},
   "outputs": [],
   "source": []
  }
 ],
 "metadata": {
  "kernelspec": {
   "display_name": "Python 3 (ipykernel)",
   "language": "python",
   "name": "python3"
  },
  "language_info": {
   "codemirror_mode": {
    "name": "ipython",
    "version": 3
   },
   "file_extension": ".py",
   "mimetype": "text/x-python",
   "name": "python",
   "nbconvert_exporter": "python",
   "pygments_lexer": "ipython3",
   "version": "3.9.0"
  }
 },
 "nbformat": 4,
 "nbformat_minor": 5
}
